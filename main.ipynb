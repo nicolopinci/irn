{
 "cells": [
  {
   "cell_type": "code",
   "execution_count": null,
   "metadata": {
    "colab": {
     "base_uri": "https://localhost:8080/",
     "height": 1000
    },
    "colab_type": "code",
    "id": "eh-YimTUPy9V",
    "outputId": "60ee7f2e-e45c-4737-c655-255c8019a3bd",
    "scrolled": false
   },
   "outputs": [
    {
     "name": "stdout",
     "output_type": "stream",
     "text": [
      "{'num_workers': 16, 'voc12_root': 'voc12', 'train_list': 'voc12/train_aug.txt', 'val_list': 'voc12/val.txt', 'infer_list': 'voc12/train.txt', 'chainer_eval_set': 'train', 'cam_network': 'net.resnet50_cam', 'cam_crop_size': 512, 'cam_batch_size': 16, 'cam_num_epoches': 100, 'cam_learning_rate': 0.1, 'cam_weight_decay': 0.0001, 'cam_eval_thres': 0.15, 'cam_scales': (1.0, 0.5, 1.5, 2.0), 'conf_fg_thres': 0.3, 'conf_bg_thres': 0.05, 'irn_network': 'net.resnet50_irn', 'irn_crop_size': 512, 'irn_batch_size': 32, 'irn_num_epoches': 3, 'irn_learning_rate': 0.1, 'irn_weight_decay': 0.0001, 'beta': 10, 'exp_times': 8, 'ins_seg_bg_thres': 0.25, 'sem_seg_bg_thres': 0.25, 'log_name': 'sample_train_eval', 'cam_weights_name': 'sess/res50_cam.pth', 'irn_weights_name': 'sess/res50_irn.pth', 'cam_out_dir': 'result/cam', 'ir_label_out_dir': 'result/ir_label', 'sem_seg_out_dir': 'result/sem_seg', 'ins_seg_out_dir': 'result/ins_seg', 'train_cam_pass': True, 'make_cam_pass': True, 'eval_cam_pass': True, 'cam_to_ir_label_pass': True, 'train_irn_pass': True, 'make_ins_seg_pass': True, 'eval_ins_seg_pass': True, 'make_sem_seg_pass': True, 'eval_sem_seg_pass': True, 'early_stopping': True}\n",
      "step.train_cam: Fri Jun 12 11:56:44 2020\n",
      "True\n",
      "Epoch 1/100\n",
      "step:    0/66100 loss:0.7008 imps:4.5 lr: 0.1000 etc:Mon Jun 15 05:55:16 2020\n",
      "step:  100/66100 loss:0.1870 imps:67.7 lr: 0.0999 etc:Fri Jun 12 16:17:13 2020\n",
      "step:  200/66100 loss:0.1143 imps:72.7 lr: 0.0997 etc:Fri Jun 12 15:59:05 2020\n",
      "step:  300/66100 loss:0.0968 imps:74.7 lr: 0.0996 etc:Fri Jun 12 15:52:48 2020\n",
      "step:  400/66100 loss:0.0947 imps:75.7 lr: 0.0995 etc:Fri Jun 12 15:49:46 2020\n",
      "step:  500/66100 loss:0.0946 imps:76.3 lr: 0.0993 etc:Fri Jun 12 15:47:56 2020\n",
      "step:  600/66100 loss:0.0942 imps:76.7 lr: 0.0992 etc:Fri Jun 12 15:46:38 2020\n",
      "validating ... loss: 0.0695\n",
      "0.06950134258303377\n",
      "inf\n",
      "True\n",
      "False\n",
      "True\n",
      "Epoch 2/100\n",
      "step:  700/66100 loss:0.0820 imps:67.6 lr: 0.0990 etc:Fri Jun 12 16:05:02 2020\n",
      "step:  800/66100 loss:0.0825 imps:75.2 lr: 0.0989 etc:Fri Jun 12 16:01:59 2020\n",
      "step:  900/66100 loss:0.0762 imps:76.7 lr: 0.0988 etc:Fri Jun 12 15:59:34 2020\n",
      "step: 1000/66100 loss:0.0733 imps:77.3 lr: 0.0986 etc:Fri Jun 12 15:57:39 2020\n",
      "step: 1100/66100 loss:0.0750 imps:77.6 lr: 0.0985 etc:Fri Jun 12 15:56:06 2020\n",
      "step: 1200/66100 loss:0.0744 imps:77.9 lr: 0.0984 etc:Fri Jun 12 15:54:47 2020\n"
     ]
    }
   ],
   "source": [
    "!python run_sample.py --voc12_root voc12 --cam_num_epoches=100"
   ]
  },
  {
   "cell_type": "code",
   "execution_count": null,
   "metadata": {
    "scrolled": false
   },
   "outputs": [],
   "source": [
    "!python run_sample.py --voc12_root voc12 --cam_num_epoches=10"
   ]
  },
  {
   "cell_type": "code",
   "execution_count": null,
   "metadata": {
    "colab": {},
    "colab_type": "code",
    "id": "ppFbmPdStKO8"
   },
   "outputs": [],
   "source": [
    "#!/usr/bin/env python\n",
    "import os\n",
    "import zipfile\n",
    "\n",
    "def zipdir(path, ziph):\n",
    "    # ziph is zipfile handle\n",
    "    for root, dirs, files in os.walk(path):\n",
    "        for file in files:\n",
    "            ziph.write(os.path.join(root, file))\n",
    "\n",
    "if __name__ == '__main__':\n",
    "    zipf = zipfile.ZipFile('results.zip', 'w', zipfile.ZIP_DEFLATED)\n",
    "    zipdir('result', zipf)\n",
    "    zipf.close()"
   ]
  },
  {
   "cell_type": "code",
   "execution_count": null,
   "metadata": {},
   "outputs": [],
   "source": [
    "!python run_sample.py --voc12_root voc12 --cam_learning_rate=0.2"
   ]
  },
  {
   "cell_type": "code",
   "execution_count": null,
   "metadata": {},
   "outputs": [],
   "source": []
  }
 ],
 "metadata": {
  "accelerator": "GPU",
  "colab": {
   "collapsed_sections": [],
   "include_colab_link": true,
   "name": "IRN workflow.ipynb",
   "provenance": []
  },
  "kernelspec": {
   "display_name": "Python 3",
   "language": "python",
   "name": "python3"
  },
  "language_info": {
   "codemirror_mode": {
    "name": "ipython",
    "version": 3
   },
   "file_extension": ".py",
   "mimetype": "text/x-python",
   "name": "python",
   "nbconvert_exporter": "python",
   "pygments_lexer": "ipython3",
   "version": "3.7.6"
  }
 },
 "nbformat": 4,
 "nbformat_minor": 1
}
