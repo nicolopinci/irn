{
 "cells": [
  {
   "cell_type": "code",
   "execution_count": 18,
   "metadata": {
    "colab": {
     "base_uri": "https://localhost:8080/",
     "height": 1000
    },
    "colab_type": "code",
    "id": "eh-YimTUPy9V",
    "outputId": "60ee7f2e-e45c-4737-c655-255c8019a3bd"
   },
   "outputs": [
    {
     "name": "stdout",
     "output_type": "stream",
     "text": [
      "{'num_workers': 16, 'voc12_root': 'voc12', 'train_list': 'voc12/train_aug.txt', 'val_list': 'voc12/val.txt', 'infer_list': 'voc12/train.txt', 'chainer_eval_set': 'train', 'cam_network': 'net.resnet50_cam', 'cam_crop_size': 512, 'cam_batch_size': 16, 'cam_num_epoches': 20, 'cam_learning_rate': 0.1, 'cam_weight_decay': 0.0001, 'cam_eval_thres': 0.15, 'cam_scales': (1.0, 0.5, 1.5, 2.0), 'conf_fg_thres': 0.3, 'conf_bg_thres': 0.05, 'irn_network': 'net.resnet50_irn', 'irn_crop_size': 512, 'irn_batch_size': 32, 'irn_num_epoches': 3, 'irn_learning_rate': 0.1, 'irn_weight_decay': 0.0001, 'beta': 10, 'exp_times': 8, 'ins_seg_bg_thres': 0.25, 'sem_seg_bg_thres': 0.25, 'log_name': 'sample_train_eval', 'cam_weights_name': 'sess/res50_cam.pth', 'irn_weights_name': 'sess/res50_irn.pth', 'cam_out_dir': 'result/cam', 'ir_label_out_dir': 'result/ir_label', 'sem_seg_out_dir': 'result/sem_seg', 'ins_seg_out_dir': 'result/ins_seg', 'train_cam_pass': True, 'make_cam_pass': True, 'eval_cam_pass': True, 'cam_to_ir_label_pass': True, 'train_irn_pass': True, 'make_ins_seg_pass': True, 'eval_ins_seg_pass': True, 'make_sem_seg_pass': True, 'eval_sem_seg_pass': True, 'stopping_criteria': 'threshold', 'stopping_threshold': 0.0}\n",
      "step.train_cam: Sat Jun 20 23:47:57 2020\n",
      "Epoch 1/20\n",
      "step:    0/13220 loss:0.6821 imps:3.9 lr: 0.1000 etc:Sun Jun 21 14:43:59 2020\n",
      "step:  100/13220 loss:0.1897 imps:66.2 lr: 0.0993 etc:Sun Jun 21 00:41:13 2020\n",
      "step:  200/13220 loss:0.1116 imps:71.9 lr: 0.0986 etc:Sun Jun 21 00:37:03 2020\n",
      "step:  300/13220 loss:0.1018 imps:74.0 lr: 0.0980 etc:Sun Jun 21 00:35:37 2020\n",
      "step:  400/13220 loss:0.0866 imps:75.1 lr: 0.0973 etc:Sun Jun 21 00:34:56 2020\n",
      "step:  500/13220 loss:0.0900 imps:75.8 lr: 0.0966 etc:Sun Jun 21 00:34:29 2020\n",
      "step:  600/13220 loss:0.0859 imps:76.3 lr: 0.0959 etc:Sun Jun 21 00:34:12 2020\n",
      "validating ... loss: 0.0784\n",
      "GL:0.0\n",
      "Epoch 2/20\n",
      "step:  700/13220 loss:0.0827 imps:64.6 lr: 0.0952 etc:Sun Jun 21 00:38:07 2020\n",
      "step:  800/13220 loss:0.0759 imps:74.1 lr: 0.0945 etc:Sun Jun 21 00:37:27 2020\n",
      "step:  900/13220 loss:0.0744 imps:76.0 lr: 0.0939 etc:Sun Jun 21 00:36:56 2020\n",
      "step: 1000/13220 loss:0.0741 imps:76.8 lr: 0.0932 etc:Sun Jun 21 00:36:31 2020\n",
      "step: 1100/13220 loss:0.0722 imps:77.2 lr: 0.0925 etc:Sun Jun 21 00:36:11 2020\n",
      "step: 1200/13220 loss:0.0727 imps:77.5 lr: 0.0918 etc:Sun Jun 21 00:35:54 2020\n",
      "step: 1300/13220 loss:0.0739 imps:77.7 lr: 0.0911 etc:Sun Jun 21 00:35:40 2020\n",
      "validating ... loss: 0.0636\n",
      "GL:0.0\n",
      "Epoch 3/20\n",
      "step: 1400/13220 loss:0.0655 imps:72.0 lr: 0.0904 etc:Sun Jun 21 00:37:28 2020\n",
      "step: 1500/13220 loss:0.0625 imps:75.5 lr: 0.0897 etc:Sun Jun 21 00:37:10 2020\n",
      "step: 1600/13220 loss:0.0618 imps:76.7 lr: 0.0890 etc:Sun Jun 21 00:36:53 2020\n",
      "step: 1700/13220 loss:0.0686 imps:77.2 lr: 0.0883 etc:Sun Jun 21 00:36:39 2020\n",
      "step: 1800/13220 loss:0.0628 imps:77.5 lr: 0.0877 etc:Sun Jun 21 00:36:26 2020\n",
      "step: 1900/13220 loss:0.0682 imps:77.7 lr: 0.0870 etc:Sun Jun 21 00:36:15 2020\n",
      "validating ... loss: 0.0605\n",
      "GL:0.0\n",
      "Epoch 4/20\n",
      "step: 2000/13220 loss:0.0613 imps:55.2 lr: 0.0863 etc:Sun Jun 21 00:37:29 2020\n",
      "step: 2100/13220 loss:0.0571 imps:74.0 lr: 0.0856 etc:Sun Jun 21 00:37:15 2020\n",
      "step: 2200/13220 loss:0.0595 imps:76.0 lr: 0.0849 etc:Sun Jun 21 00:37:03 2020\n",
      "step: 2300/13220 loss:0.0559 imps:76.9 lr: 0.0842 etc:Sun Jun 21 00:36:52 2020\n",
      "step: 2400/13220 loss:0.0585 imps:77.3 lr: 0.0835 etc:Sun Jun 21 00:36:42 2020\n",
      "step: 2500/13220 loss:0.0604 imps:77.6 lr: 0.0828 etc:Sun Jun 21 00:36:32 2020\n",
      "step: 2600/13220 loss:0.0655 imps:77.8 lr: 0.0821 etc:Sun Jun 21 00:36:24 2020\n",
      "validating ... loss: 0.0646\n",
      "GL:6.8\n",
      "Early stopping activated\n",
      "step.make_cam: Sat Jun 20 23:57:52 2020\n",
      "[ /pytorch/torch/csrc/utils/python_arg_parser.cpp:756: UserWarning: This overload of nonzero is deprecated:\n",
      "\tnonzero(Tensor input, *, Tensor out)\n",
      "Consider using one of the following signatures instead:\n",
      "\tnonzero(Tensor input, *, bool as_tuple)\n",
      "/opt/conda/lib/python3.7/site-packages/torch/storage.py:34: FutureWarning: pickle support for Storage will be removed in 1.5. Use `torch.save` instead\n",
      "  warnings.warn(\"pickle support for Storage will be removed in 1.5. Use `torch.save` instead\", FutureWarning)\n",
      "/pytorch/torch/csrc/utils/python_arg_parser.cpp:756: UserWarning: This overload of nonzero is deprecated:\n",
      "\tnonzero(Tensor input, *, Tensor out)\n",
      "Consider using one of the following signatures instead:\n",
      "\tnonzero(Tensor input, *, bool as_tuple)\n",
      "/opt/conda/lib/python3.7/site-packages/torch/storage.py:34: FutureWarning: pickle support for Storage will be removed in 1.5. Use `torch.save` instead\n",
      "  warnings.warn(\"pickle support for Storage will be removed in 1.5. Use `torch.save` instead\", FutureWarning)\n",
      "^C\n",
      "Traceback (most recent call last):\n",
      "  File \"run_sample.py\", line 101, in <module>\n",
      "    step.make_cam.run(args)\n",
      "  File \"/home/irn/step/make_cam.py\", line 74, in run\n",
      "    multiprocessing.spawn(_work, nprocs=n_gpus, args=(model, dataset, args), join=True)\n",
      "  File \"/opt/conda/lib/python3.7/site-packages/torch/multiprocessing/spawn.py\", line 200, in spawn\n",
      "    return start_processes(fn, args, nprocs, join, daemon, start_method='spawn')\n",
      "  File \"/opt/conda/lib/python3.7/site-packages/torch/multiprocessing/spawn.py\", line 158, in start_processes\n",
      "    while not context.join():\n",
      "  File \"/opt/conda/lib/python3.7/site-packages/torch/multiprocessing/spawn.py\", line 78, in join\n",
      "    timeout=timeout,\n",
      "  File \"/opt/conda/lib/python3.7/multiprocessing/connection.py\", line 920, in wait\n",
      "    ready = selector.select(timeout)\n",
      "  File \"/opt/conda/lib/python3.7/selectors.py\", line 415, in select\n",
      "    fd_event_list = self._selector.poll(timeout)\n",
      "KeyboardInterrupt\n"
     ]
    }
   ],
   "source": [
    "!python run_sample.py --voc12_root voc12 --cam_num_epoches=20 --stopping_threshold=0.0"
   ]
  },
  {
   "cell_type": "code",
   "execution_count": null,
   "metadata": {
    "scrolled": false
   },
   "outputs": [],
   "source": [
    "!python run_sample.py --voc12_root voc12 --cam_num_epoches=10"
   ]
  },
  {
   "cell_type": "code",
   "execution_count": null,
   "metadata": {
    "colab": {},
    "colab_type": "code",
    "id": "ppFbmPdStKO8"
   },
   "outputs": [],
   "source": [
    "#!/usr/bin/env python\n",
    "import os\n",
    "import zipfile\n",
    "\n",
    "def zipdir(path, ziph):\n",
    "    # ziph is zipfile handle\n",
    "    for root, dirs, files in os.walk(path):\n",
    "        for file in files:\n",
    "            ziph.write(os.path.join(root, file))\n",
    "\n",
    "if __name__ == '__main__':\n",
    "    zipf = zipfile.ZipFile('results.zip', 'w', zipfile.ZIP_DEFLATED)\n",
    "    zipdir('result', zipf)\n",
    "    zipf.close()"
   ]
  },
  {
   "cell_type": "code",
   "execution_count": null,
   "metadata": {},
   "outputs": [],
   "source": [
    "!python run_sample.py --voc12_root voc12 --cam_learning_rate=0.2"
   ]
  },
  {
   "cell_type": "code",
   "execution_count": null,
   "metadata": {},
   "outputs": [],
   "source": []
  }
 ],
 "metadata": {
  "accelerator": "GPU",
  "colab": {
   "collapsed_sections": [],
   "include_colab_link": true,
   "name": "IRN workflow.ipynb",
   "provenance": []
  },
  "kernelspec": {
   "display_name": "Python 3",
   "language": "python",
   "name": "python3"
  },
  "language_info": {
   "codemirror_mode": {
    "name": "ipython",
    "version": 3
   },
   "file_extension": ".py",
   "mimetype": "text/x-python",
   "name": "python",
   "nbconvert_exporter": "python",
   "pygments_lexer": "ipython3",
   "version": "3.7.6"
  }
 },
 "nbformat": 4,
 "nbformat_minor": 1
}
