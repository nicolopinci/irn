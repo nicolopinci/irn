{
 "cells": [
  {
   "cell_type": "code",
   "execution_count": null,
   "metadata": {
    "colab": {
     "base_uri": "https://localhost:8080/",
     "height": 1000
    },
    "colab_type": "code",
    "id": "eh-YimTUPy9V",
    "outputId": "60ee7f2e-e45c-4737-c655-255c8019a3bd",
    "scrolled": false
   },
   "outputs": [
    {
     "name": "stdout",
     "output_type": "stream",
     "text": [
      "{'num_workers': 16, 'voc12_root': 'voc12', 'train_list': 'voc12/train_aug.txt', 'val_list': 'voc12/val.txt', 'infer_list': 'voc12/train.txt', 'chainer_eval_set': 'train', 'cam_network': 'net.resnet50_cam', 'cam_crop_size': 512, 'cam_batch_size': 16, 'cam_num_epoches': 1000, 'cam_learning_rate': 0.1, 'cam_weight_decay': 0.0001, 'cam_eval_thres': 0.15, 'cam_scales': (1.0, 0.5, 1.5, 2.0), 'conf_fg_thres': 0.3, 'conf_bg_thres': 0.05, 'irn_network': 'net.resnet50_irn', 'irn_crop_size': 512, 'irn_batch_size': 32, 'irn_num_epoches': 3, 'irn_learning_rate': 0.1, 'irn_weight_decay': 0.0001, 'beta': 10, 'exp_times': 8, 'ins_seg_bg_thres': 0.25, 'sem_seg_bg_thres': 0.25, 'log_name': 'sample_train_eval', 'cam_weights_name': 'sess/res50_cam.pth', 'irn_weights_name': 'sess/res50_irn.pth', 'cam_out_dir': 'result/cam', 'ir_label_out_dir': 'result/ir_label', 'sem_seg_out_dir': 'result/sem_seg', 'ins_seg_out_dir': 'result/ins_seg', 'train_cam_pass': True, 'make_cam_pass': True, 'eval_cam_pass': True, 'cam_to_ir_label_pass': True, 'train_irn_pass': True, 'make_ins_seg_pass': True, 'eval_ins_seg_pass': True, 'make_sem_seg_pass': True, 'eval_sem_seg_pass': True, 'stopping_criteria': 'threshold', 'stopping_threshold': 30.0}\n",
      "step.train_cam: Sat Jun 20 14:08:59 2020\n",
      "Epoch 1/1000\n",
      "step:    0/661000 loss:0.6914 imps:4.1 lr: 0.1000 etc:Mon Jul 20 18:42:46 2020\n",
      "step:  100/661000 loss:0.1863 imps:66.8 lr: 0.1000 etc:Mon Jun 22 10:07:45 2020\n",
      "step:  200/661000 loss:0.1108 imps:72.2 lr: 0.1000 etc:Mon Jun 22 06:49:39 2020\n",
      "step:  300/661000 loss:0.1019 imps:74.3 lr: 0.1000 etc:Mon Jun 22 05:41:31 2020\n",
      "step:  400/661000 loss:0.0933 imps:75.4 lr: 0.0999 etc:Mon Jun 22 05:08:15 2020\n",
      "step:  500/661000 loss:0.0848 imps:76.0 lr: 0.0999 etc:Mon Jun 22 04:48:20 2020\n",
      "step:  600/661000 loss:0.0891 imps:76.5 lr: 0.0999 etc:Mon Jun 22 04:34:20 2020\n",
      "validating ... loss: 0.0737\n",
      "GL:0.0\n",
      "Epoch 2/1000\n",
      "step:  700/661000 loss:0.0806 imps:66.9 lr: 0.0999 etc:Mon Jun 22 07:44:04 2020\n",
      "step:  800/661000 loss:0.0788 imps:74.9 lr: 0.0999 etc:Mon Jun 22 07:12:13 2020\n",
      "step:  900/661000 loss:0.0732 imps:76.5 lr: 0.0999 etc:Mon Jun 22 06:47:08 2020\n",
      "step: 1000/661000 loss:0.0792 imps:77.1 lr: 0.0999 etc:Mon Jun 22 06:27:36 2020\n",
      "step: 1100/661000 loss:0.0738 imps:77.4 lr: 0.0999 etc:Mon Jun 22 06:11:45 2020\n",
      "step: 1200/661000 loss:0.0713 imps:77.7 lr: 0.0998 etc:Mon Jun 22 05:57:59 2020\n",
      "step: 1300/661000 loss:0.0769 imps:77.8 lr: 0.0998 etc:Mon Jun 22 05:46:35 2020\n",
      "validating ... loss: 0.0678\n",
      "GL:0.0\n",
      "Epoch 3/1000\n",
      "step: 1400/661000 loss:0.0728 imps:71.8 lr: 0.0998 etc:Mon Jun 22 07:17:20 2020\n",
      "step: 1500/661000 loss:0.0665 imps:75.5 lr: 0.0998 etc:Mon Jun 22 07:02:15 2020\n",
      "step: 1600/661000 loss:0.0654 imps:76.6 lr: 0.0998 etc:Mon Jun 22 06:48:45 2020\n",
      "step: 1700/661000 loss:0.0656 imps:77.2 lr: 0.0998 etc:Mon Jun 22 06:36:43 2020\n",
      "step: 1800/661000 loss:0.0632 imps:77.5 lr: 0.0998 etc:Mon Jun 22 06:26:15 2020\n",
      "step: 1900/661000 loss:0.0674 imps:77.7 lr: 0.0997 etc:Mon Jun 22 06:16:41 2020\n",
      "validating ... loss: 0.0698\n",
      "GL:3.0\n",
      "Epoch 4/1000\n",
      "step: 2000/661000 loss:0.0654 imps:55.7 lr: 0.0997 etc:Mon Jun 22 07:18:14 2020\n",
      "step: 2100/661000 loss:0.0606 imps:74.2 lr: 0.0997 etc:Mon Jun 22 07:07:06 2020\n",
      "step: 2200/661000 loss:0.0617 imps:76.2 lr: 0.0997 etc:Mon Jun 22 06:57:10 2020\n",
      "step: 2300/661000 loss:0.0631 imps:76.9 lr: 0.0997 etc:Mon Jun 22 06:48:11 2020\n"
     ]
    }
   ],
   "source": [
    "!python run_sample.py --voc12_root voc12 --cam_num_epoches=1000 --stopping_threshold=30.0"
   ]
  },
  {
   "cell_type": "code",
   "execution_count": null,
   "metadata": {
    "scrolled": false
   },
   "outputs": [],
   "source": [
    "!python run_sample.py --voc12_root voc12 --cam_num_epoches=10"
   ]
  },
  {
   "cell_type": "code",
   "execution_count": null,
   "metadata": {
    "colab": {},
    "colab_type": "code",
    "id": "ppFbmPdStKO8"
   },
   "outputs": [],
   "source": [
    "#!/usr/bin/env python\n",
    "import os\n",
    "import zipfile\n",
    "\n",
    "def zipdir(path, ziph):\n",
    "    # ziph is zipfile handle\n",
    "    for root, dirs, files in os.walk(path):\n",
    "        for file in files:\n",
    "            ziph.write(os.path.join(root, file))\n",
    "\n",
    "if __name__ == '__main__':\n",
    "    zipf = zipfile.ZipFile('results.zip', 'w', zipfile.ZIP_DEFLATED)\n",
    "    zipdir('result', zipf)\n",
    "    zipf.close()"
   ]
  },
  {
   "cell_type": "code",
   "execution_count": null,
   "metadata": {},
   "outputs": [],
   "source": [
    "!python run_sample.py --voc12_root voc12 --cam_learning_rate=0.2"
   ]
  },
  {
   "cell_type": "code",
   "execution_count": null,
   "metadata": {},
   "outputs": [],
   "source": []
  }
 ],
 "metadata": {
  "accelerator": "GPU",
  "colab": {
   "collapsed_sections": [],
   "include_colab_link": true,
   "name": "IRN workflow.ipynb",
   "provenance": []
  },
  "kernelspec": {
   "display_name": "Python 3",
   "language": "python",
   "name": "python3"
  },
  "language_info": {
   "codemirror_mode": {
    "name": "ipython",
    "version": 3
   },
   "file_extension": ".py",
   "mimetype": "text/x-python",
   "name": "python",
   "nbconvert_exporter": "python",
   "pygments_lexer": "ipython3",
   "version": "3.7.6"
  }
 },
 "nbformat": 4,
 "nbformat_minor": 1
}
