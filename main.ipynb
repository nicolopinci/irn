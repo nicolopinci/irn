{
 "cells": [
  {
   "cell_type": "code",
   "execution_count": 2,
   "metadata": {
    "colab": {
     "base_uri": "https://localhost:8080/",
     "height": 1000
    },
    "colab_type": "code",
    "id": "eh-YimTUPy9V",
    "outputId": "60ee7f2e-e45c-4737-c655-255c8019a3bd"
   },
   "outputs": [
    {
     "name": "stdout",
     "output_type": "stream",
     "text": [
      "{'num_workers': 16, 'voc12_root': 'voc12', 'train_list': 'voc12/train_aug.txt', 'val_list': 'voc12/val.txt', 'infer_list': 'voc12/train.txt', 'chainer_eval_set': 'train', 'cam_network': 'net.resnet50_cam', 'cam_crop_size': 512, 'cam_batch_size': 16, 'cam_num_epoches': 10, 'cam_learning_rate': 0.1, 'cam_weight_decay': 0.0001, 'cam_eval_thres': 0.15, 'cam_scales': (1.0, 0.5, 1.5, 2.0), 'conf_fg_thres': 0.3, 'conf_bg_thres': 0.05, 'irn_network': 'net.resnet50_irn', 'irn_crop_size': 512, 'irn_batch_size': 32, 'irn_num_epoches': 3, 'irn_learning_rate': 0.1, 'irn_weight_decay': 0.0001, 'beta': 10, 'exp_times': 8, 'ins_seg_bg_thres': 0.25, 'sem_seg_bg_thres': 0.25, 'log_name': 'sample_train_eval', 'cam_weights_name': 'sess/res50_cam.pth', 'irn_weights_name': 'sess/res50_irn.pth', 'cam_out_dir': 'result/cam', 'ir_label_out_dir': 'result/ir_label', 'sem_seg_out_dir': 'result/sem_seg', 'ins_seg_out_dir': 'result/ins_seg', 'train_cam_pass': True, 'make_cam_pass': True, 'eval_cam_pass': True, 'cam_to_ir_label_pass': True, 'train_irn_pass': True, 'make_ins_seg_pass': True, 'eval_ins_seg_pass': True, 'make_sem_seg_pass': True, 'eval_sem_seg_pass': True, 'stopping_criterion': 'onlyPk', 'stopping_threshold': 1.5, 'stopping_k': 7}\n",
      "step.train_cam: Wed Jun 24 09:15:22 2020\n",
      "Downloading: \"https://download.pytorch.org/models/resnet50-19c8e357.pth\" to /root/.cache/torch/checkpoints/resnet50-19c8e357.pth\n",
      "100%|██████████████████████████████████████| 97.8M/97.8M [00:05<00:00, 19.8MB/s]\n",
      "Epoch 1/10\n",
      "step:    0/ 6610 loss:0.6779 imps:4.0 lr: 0.1000 etc:Wed Jun 24 16:32:57 2020\n",
      "step:  100/ 6610 loss:0.1871 imps:67.9 lr: 0.0986 etc:Wed Jun 24 09:41:29 2020\n",
      "step:  200/ 6610 loss:0.1127 imps:73.7 lr: 0.0973 etc:Wed Jun 24 09:39:26 2020\n",
      "step:  300/ 6610 loss:0.0999 imps:75.7 lr: 0.0959 etc:Wed Jun 24 09:38:48 2020\n",
      "step:  400/ 6610 loss:0.0919 imps:76.6 lr: 0.0945 etc:Wed Jun 24 09:38:31 2020\n",
      "step:  500/ 6610 loss:0.0858 imps:77.1 lr: 0.0932 etc:Wed Jun 24 09:38:22 2020\n",
      "step:  600/ 6610 loss:0.0841 imps:77.5 lr: 0.0918 etc:Wed Jun 24 09:38:16 2020\n",
      "validating ... loss: 0.0689\n",
      "GL:0.0\n",
      "P(k):1274.82\n",
      "PQ:0.00\n",
      "Traceback (most recent call last):\n",
      "  File \"run_sample.py\", line 96, in <module>\n",
      "    step.train_cam.run(args)\n",
      "  File \"/home/irn/step/train_cam.py\", line 138, in run\n",
      "    if(args.stopping_criterion == \"onlyPk\" and 100/Pk_value > args.stopping_treshold):\n",
      "AttributeError: 'Namespace' object has no attribute 'stopping_treshold'\n"
     ]
    }
   ],
   "source": [
    "!python run_sample.py --voc12_root voc12 --cam_num_epoches=10 --stopping_k=7 --stopping_criterion=\"onlyPk\" --stopping_threshold=1.5"
   ]
  },
  {
   "cell_type": "code",
   "execution_count": null,
   "metadata": {
    "scrolled": false
   },
   "outputs": [],
   "source": [
    "!python run_sample.py --voc12_root voc12 --cam_num_epoches=10"
   ]
  },
  {
   "cell_type": "code",
   "execution_count": null,
   "metadata": {
    "colab": {},
    "colab_type": "code",
    "id": "ppFbmPdStKO8"
   },
   "outputs": [],
   "source": [
    "#!/usr/bin/env python\n",
    "import os\n",
    "import zipfile\n",
    "\n",
    "def zipdir(path, ziph):\n",
    "    # ziph is zipfile handle\n",
    "    for root, dirs, files in os.walk(path):\n",
    "        for file in files:\n",
    "            ziph.write(os.path.join(root, file))\n",
    "\n",
    "if __name__ == '__main__':\n",
    "    zipf = zipfile.ZipFile('results.zip', 'w', zipfile.ZIP_DEFLATED)\n",
    "    zipdir('result', zipf)\n",
    "    zipf.close()"
   ]
  },
  {
   "cell_type": "code",
   "execution_count": null,
   "metadata": {},
   "outputs": [],
   "source": [
    "!python run_sample.py --voc12_root voc12 --cam_learning_rate=0.2"
   ]
  },
  {
   "cell_type": "code",
   "execution_count": null,
   "metadata": {},
   "outputs": [],
   "source": []
  }
 ],
 "metadata": {
  "accelerator": "GPU",
  "colab": {
   "collapsed_sections": [],
   "include_colab_link": true,
   "name": "IRN workflow.ipynb",
   "provenance": []
  },
  "kernelspec": {
   "display_name": "Python 3",
   "language": "python",
   "name": "python3"
  },
  "language_info": {
   "codemirror_mode": {
    "name": "ipython",
    "version": 3
   },
   "file_extension": ".py",
   "mimetype": "text/x-python",
   "name": "python",
   "nbconvert_exporter": "python",
   "pygments_lexer": "ipython3",
   "version": "3.7.6"
  }
 },
 "nbformat": 4,
 "nbformat_minor": 1
}
