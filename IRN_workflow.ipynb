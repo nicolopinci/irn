{
  "nbformat": 4,
  "nbformat_minor": 0,
  "metadata": {
    "colab": {
      "name": "IRN workflow.ipynb",
      "provenance": [],
      "collapsed_sections": [],
      "include_colab_link": true
    },
    "kernelspec": {
      "name": "python3",
      "display_name": "Python 3"
    },
    "accelerator": "GPU"
  },
  "cells": [
    {
      "cell_type": "markdown",
      "metadata": {
        "id": "view-in-github",
        "colab_type": "text"
      },
      "source": [
        "<a href=\"https://colab.research.google.com/github/nicolopinci/irn/blob/master/IRN_workflow.ipynb\" target=\"_parent\"><img src=\"https://colab.research.google.com/assets/colab-badge.svg\" alt=\"Open In Colab\"/></a>"
      ]
    },
    {
      "cell_type": "code",
      "metadata": {
        "id": "ZbWk4BUeJk5u",
        "colab_type": "code",
        "outputId": "17cd1c49-9256-4b93-d3d9-d53e0e582cb3",
        "colab": {
          "base_uri": "https://localhost:8080/",
          "height": 121
        }
      },
      "source": [
        "!git clone https://github.com/nicolopinci/irn.git"
      ],
      "execution_count": 0,
      "outputs": [
        {
          "output_type": "stream",
          "text": [
            "Cloning into 'irn'...\n",
            "remote: Enumerating objects: 17213, done.\u001b[K\n",
            "remote: Total 17213 (delta 0), reused 0 (delta 0), pack-reused 17213\u001b[K\n",
            "Receiving objects: 100% (17213/17213), 1.78 GiB | 12.61 MiB/s, done.\n",
            "Resolving deltas: 100% (45/45), done.\n",
            "Checking out files: 100% (17154/17154), done.\n"
          ],
          "name": "stdout"
        }
      ]
    },
    {
      "cell_type": "code",
      "metadata": {
        "id": "tvx3bZa5eU6B",
        "colab_type": "code",
        "outputId": "14cf50ea-7a35-4e3a-9ff3-90b1454e5863",
        "colab": {
          "base_uri": "https://localhost:8080/",
          "height": 69
        }
      },
      "source": [
        "%cd /content/irn/\n",
        "%ls /content/irn"
      ],
      "execution_count": 0,
      "outputs": [
        {
          "output_type": "stream",
          "text": [
            "/content/irn\n",
            "LICENSE  \u001b[0m\u001b[01;34mnet\u001b[0m/         README.md         run_sample.py  \u001b[01;34mvoc12\u001b[0m/\n",
            "\u001b[01;34mmisc\u001b[0m/    outline.jpg  requirements.txt  \u001b[01;34mstep\u001b[0m/\n"
          ],
          "name": "stdout"
        }
      ]
    },
    {
      "cell_type": "code",
      "metadata": {
        "id": "A4tT7vkoe4DQ",
        "colab_type": "code",
        "outputId": "cde3d58d-08c8-4faa-e402-f04975a50bf2",
        "colab": {
          "base_uri": "https://localhost:8080/",
          "height": 211
        }
      },
      "source": [
        "!pip install pydensecrf"
      ],
      "execution_count": 0,
      "outputs": [
        {
          "output_type": "stream",
          "text": [
            "Collecting pydensecrf\n",
            "\u001b[?25l  Downloading https://files.pythonhosted.org/packages/31/5a/1c2ab48e8019d282c128bc5c621332267bb954d32eecdda3ba57306b1551/pydensecrf-1.0rc3.tar.gz (1.0MB)\n",
            "\r\u001b[K     |▎                               | 10kB 28.4MB/s eta 0:00:01\r\u001b[K     |▋                               | 20kB 29.0MB/s eta 0:00:01\r\u001b[K     |█                               | 30kB 33.2MB/s eta 0:00:01\r\u001b[K     |█▎                              | 40kB 24.0MB/s eta 0:00:01\r\u001b[K     |█▋                              | 51kB 18.6MB/s eta 0:00:01\r\u001b[K     |██                              | 61kB 13.2MB/s eta 0:00:01\r\u001b[K     |██▏                             | 71kB 13.0MB/s eta 0:00:01\r\u001b[K     |██▌                             | 81kB 12.7MB/s eta 0:00:01\r\u001b[K     |██▉                             | 92kB 12.4MB/s eta 0:00:01\r\u001b[K     |███▏                            | 102kB 12.7MB/s eta 0:00:01\r\u001b[K     |███▌                            | 112kB 12.7MB/s eta 0:00:01\r\u001b[K     |███▉                            | 122kB 12.7MB/s eta 0:00:01\r\u001b[K     |████                            | 133kB 12.7MB/s eta 0:00:01\r\u001b[K     |████▍                           | 143kB 12.7MB/s eta 0:00:01\r\u001b[K     |████▊                           | 153kB 12.7MB/s eta 0:00:01\r\u001b[K     |█████                           | 163kB 12.7MB/s eta 0:00:01\r\u001b[K     |█████▍                          | 174kB 12.7MB/s eta 0:00:01\r\u001b[K     |█████▊                          | 184kB 12.7MB/s eta 0:00:01\r\u001b[K     |██████                          | 194kB 12.7MB/s eta 0:00:01\r\u001b[K     |██████▎                         | 204kB 12.7MB/s eta 0:00:01\r\u001b[K     |██████▋                         | 215kB 12.7MB/s eta 0:00:01\r\u001b[K     |███████                         | 225kB 12.7MB/s eta 0:00:01\r\u001b[K     |███████▎                        | 235kB 12.7MB/s eta 0:00:01\r\u001b[K     |███████▋                        | 245kB 12.7MB/s eta 0:00:01\r\u001b[K     |████████                        | 256kB 12.7MB/s eta 0:00:01\r\u001b[K     |████████▏                       | 266kB 12.7MB/s eta 0:00:01\r\u001b[K     |████████▌                       | 276kB 12.7MB/s eta 0:00:01\r\u001b[K     |████████▉                       | 286kB 12.7MB/s eta 0:00:01\r\u001b[K     |█████████▏                      | 296kB 12.7MB/s eta 0:00:01\r\u001b[K     |█████████▌                      | 307kB 12.7MB/s eta 0:00:01\r\u001b[K     |█████████▉                      | 317kB 12.7MB/s eta 0:00:01\r\u001b[K     |██████████▏                     | 327kB 12.7MB/s eta 0:00:01\r\u001b[K     |██████████▍                     | 337kB 12.7MB/s eta 0:00:01\r\u001b[K     |██████████▊                     | 348kB 12.7MB/s eta 0:00:01\r\u001b[K     |███████████                     | 358kB 12.7MB/s eta 0:00:01\r\u001b[K     |███████████▍                    | 368kB 12.7MB/s eta 0:00:01\r\u001b[K     |███████████▊                    | 378kB 12.7MB/s eta 0:00:01\r\u001b[K     |████████████                    | 389kB 12.7MB/s eta 0:00:01\r\u001b[K     |████████████▎                   | 399kB 12.7MB/s eta 0:00:01\r\u001b[K     |████████████▋                   | 409kB 12.7MB/s eta 0:00:01\r\u001b[K     |█████████████                   | 419kB 12.7MB/s eta 0:00:01\r\u001b[K     |█████████████▎                  | 430kB 12.7MB/s eta 0:00:01\r\u001b[K     |█████████████▋                  | 440kB 12.7MB/s eta 0:00:01\r\u001b[K     |██████████████                  | 450kB 12.7MB/s eta 0:00:01\r\u001b[K     |██████████████▎                 | 460kB 12.7MB/s eta 0:00:01\r\u001b[K     |██████████████▌                 | 471kB 12.7MB/s eta 0:00:01\r\u001b[K     |██████████████▉                 | 481kB 12.7MB/s eta 0:00:01\r\u001b[K     |███████████████▏                | 491kB 12.7MB/s eta 0:00:01\r\u001b[K     |███████████████▌                | 501kB 12.7MB/s eta 0:00:01\r\u001b[K     |███████████████▉                | 512kB 12.7MB/s eta 0:00:01\r\u001b[K     |████████████████▏               | 522kB 12.7MB/s eta 0:00:01\r\u001b[K     |████████████████▍               | 532kB 12.7MB/s eta 0:00:01\r\u001b[K     |████████████████▊               | 542kB 12.7MB/s eta 0:00:01\r\u001b[K     |█████████████████               | 552kB 12.7MB/s eta 0:00:01\r\u001b[K     |█████████████████▍              | 563kB 12.7MB/s eta 0:00:01\r\u001b[K     |█████████████████▊              | 573kB 12.7MB/s eta 0:00:01\r\u001b[K     |██████████████████              | 583kB 12.7MB/s eta 0:00:01\r\u001b[K     |██████████████████▍             | 593kB 12.7MB/s eta 0:00:01\r\u001b[K     |██████████████████▋             | 604kB 12.7MB/s eta 0:00:01\r\u001b[K     |███████████████████             | 614kB 12.7MB/s eta 0:00:01\r\u001b[K     |███████████████████▎            | 624kB 12.7MB/s eta 0:00:01\r\u001b[K     |███████████████████▋            | 634kB 12.7MB/s eta 0:00:01\r\u001b[K     |████████████████████            | 645kB 12.7MB/s eta 0:00:01\r\u001b[K     |████████████████████▎           | 655kB 12.7MB/s eta 0:00:01\r\u001b[K     |████████████████████▌           | 665kB 12.7MB/s eta 0:00:01\r\u001b[K     |████████████████████▉           | 675kB 12.7MB/s eta 0:00:01\r\u001b[K     |█████████████████████▏          | 686kB 12.7MB/s eta 0:00:01\r\u001b[K     |█████████████████████▌          | 696kB 12.7MB/s eta 0:00:01\r\u001b[K     |█████████████████████▉          | 706kB 12.7MB/s eta 0:00:01\r\u001b[K     |██████████████████████▏         | 716kB 12.7MB/s eta 0:00:01\r\u001b[K     |██████████████████████▌         | 727kB 12.7MB/s eta 0:00:01\r\u001b[K     |██████████████████████▊         | 737kB 12.7MB/s eta 0:00:01\r\u001b[K     |███████████████████████         | 747kB 12.7MB/s eta 0:00:01\r\u001b[K     |███████████████████████▍        | 757kB 12.7MB/s eta 0:00:01\r\u001b[K     |███████████████████████▊        | 768kB 12.7MB/s eta 0:00:01\r\u001b[K     |████████████████████████        | 778kB 12.7MB/s eta 0:00:01\r\u001b[K     |████████████████████████▍       | 788kB 12.7MB/s eta 0:00:01\r\u001b[K     |████████████████████████▋       | 798kB 12.7MB/s eta 0:00:01\r\u001b[K     |█████████████████████████       | 808kB 12.7MB/s eta 0:00:01\r\u001b[K     |█████████████████████████▎      | 819kB 12.7MB/s eta 0:00:01\r\u001b[K     |█████████████████████████▋      | 829kB 12.7MB/s eta 0:00:01\r\u001b[K     |██████████████████████████      | 839kB 12.7MB/s eta 0:00:01\r\u001b[K     |██████████████████████████▎     | 849kB 12.7MB/s eta 0:00:01\r\u001b[K     |██████████████████████████▌     | 860kB 12.7MB/s eta 0:00:01\r\u001b[K     |██████████████████████████▉     | 870kB 12.7MB/s eta 0:00:01\r\u001b[K     |███████████████████████████▏    | 880kB 12.7MB/s eta 0:00:01\r\u001b[K     |███████████████████████████▌    | 890kB 12.7MB/s eta 0:00:01\r\u001b[K     |███████████████████████████▉    | 901kB 12.7MB/s eta 0:00:01\r\u001b[K     |████████████████████████████▏   | 911kB 12.7MB/s eta 0:00:01\r\u001b[K     |████████████████████████████▌   | 921kB 12.7MB/s eta 0:00:01\r\u001b[K     |████████████████████████████▊   | 931kB 12.7MB/s eta 0:00:01\r\u001b[K     |█████████████████████████████   | 942kB 12.7MB/s eta 0:00:01\r\u001b[K     |█████████████████████████████▍  | 952kB 12.7MB/s eta 0:00:01\r\u001b[K     |█████████████████████████████▊  | 962kB 12.7MB/s eta 0:00:01\r\u001b[K     |██████████████████████████████  | 972kB 12.7MB/s eta 0:00:01\r\u001b[K     |██████████████████████████████▍ | 983kB 12.7MB/s eta 0:00:01\r\u001b[K     |██████████████████████████████▋ | 993kB 12.7MB/s eta 0:00:01\r\u001b[K     |███████████████████████████████ | 1.0MB 12.7MB/s eta 0:00:01\r\u001b[K     |███████████████████████████████▎| 1.0MB 12.7MB/s eta 0:00:01\r\u001b[K     |███████████████████████████████▋| 1.0MB 12.7MB/s eta 0:00:01\r\u001b[K     |████████████████████████████████| 1.0MB 12.7MB/s eta 0:00:01\r\u001b[K     |████████████████████████████████| 1.0MB 12.7MB/s \n",
            "\u001b[?25hBuilding wheels for collected packages: pydensecrf\n",
            "  Building wheel for pydensecrf (setup.py) ... \u001b[?25l\u001b[?25hdone\n",
            "  Created wheel for pydensecrf: filename=pydensecrf-1.0rc3-cp36-cp36m-linux_x86_64.whl size=2153667 sha256=1bf8e10a678ab20140397de9d55315e6db175ec1ec074e0613e12fc3ceddac56\n",
            "  Stored in directory: /root/.cache/pip/wheels/92/6f/ec/5c49c25de8c42c872de50ff53582ba3ead850ce52a81e73ac7\n",
            "Successfully built pydensecrf\n",
            "Installing collected packages: pydensecrf\n",
            "Successfully installed pydensecrf-1.0rc3\n"
          ],
          "name": "stdout"
        }
      ]
    },
    {
      "cell_type": "code",
      "metadata": {
        "id": "eh-YimTUPy9V",
        "colab_type": "code",
        "outputId": "60ee7f2e-e45c-4737-c655-255c8019a3bd",
        "colab": {
          "base_uri": "https://localhost:8080/",
          "height": 1000
        }
      },
      "source": [
        "!python run_sample.py --voc12_root voc12"
      ],
      "execution_count": 0,
      "outputs": [
        {
          "output_type": "stream",
          "text": [
            "{'num_workers': 1, 'voc12_root': 'voc12', 'train_list': 'voc12/train_aug.txt', 'val_list': 'voc12/val.txt', 'infer_list': 'voc12/train.txt', 'chainer_eval_set': 'train', 'cam_network': 'net.resnet50_cam', 'cam_crop_size': 512, 'cam_batch_size': 16, 'cam_num_epoches': 5, 'cam_learning_rate': 0.1, 'cam_weight_decay': 0.0001, 'cam_eval_thres': 0.15, 'cam_scales': (1.0, 0.5, 1.5, 2.0), 'conf_fg_thres': 0.3, 'conf_bg_thres': 0.05, 'irn_network': 'net.resnet50_irn', 'irn_crop_size': 512, 'irn_batch_size': 32, 'irn_num_epoches': 3, 'irn_learning_rate': 0.1, 'irn_weight_decay': 0.0001, 'beta': 10, 'exp_times': 8, 'ins_seg_bg_thres': 0.25, 'sem_seg_bg_thres': 0.25, 'log_name': 'sample_train_eval', 'cam_weights_name': 'sess/res50_cam.pth', 'irn_weights_name': 'sess/res50_irn.pth', 'cam_out_dir': 'result/cam', 'ir_label_out_dir': 'result/ir_label', 'sem_seg_out_dir': 'result/sem_seg', 'ins_seg_out_dir': 'result/ins_seg', 'train_cam_pass': True, 'make_cam_pass': True, 'eval_cam_pass': True, 'cam_to_ir_label_pass': True, 'train_irn_pass': True, 'make_ins_seg_pass': True, 'eval_ins_seg_pass': True, 'make_sem_seg_pass': True, 'eval_sem_seg_pass': True}\n",
            "step.train_cam: Thu Apr 30 08:51:21 2020\n",
            "Downloading: \"https://download.pytorch.org/models/resnet50-19c8e357.pth\" to /root/.cache/torch/checkpoints/resnet50-19c8e357.pth\n",
            "100% 97.8M/97.8M [00:01<00:00, 78.1MB/s]\n",
            "Epoch 1/5\n",
            "step:    0/ 3305 loss:0.6993 imps:15.8 lr: 0.1000 etc:Thu Apr 30 09:47:10 2020\n",
            "step:  100/ 3305 loss:0.1877 imps:24.3 lr: 0.0973 etc:Thu Apr 30 09:27:50 2020\n",
            "step:  200/ 3305 loss:0.1110 imps:22.9 lr: 0.0945 etc:Thu Apr 30 09:29:57 2020\n",
            "step:  300/ 3305 loss:0.1007 imps:22.6 lr: 0.0918 etc:Thu Apr 30 09:30:31 2020\n",
            "step:  400/ 3305 loss:0.0882 imps:22.4 lr: 0.0890 etc:Thu Apr 30 09:30:51 2020\n",
            "step:  500/ 3305 loss:0.0890 imps:22.3 lr: 0.0863 etc:Thu Apr 30 09:31:02 2020\n",
            "step:  600/ 3305 loss:0.0834 imps:22.3 lr: 0.0835 etc:Thu Apr 30 09:31:09 2020\n",
            "validating ... loss: 0.0745\n",
            "Epoch 2/5\n",
            "step:  700/ 3305 loss:0.0729 imps:21.9 lr: 0.0807 etc:Thu Apr 30 09:33:52 2020\n",
            "step:  800/ 3305 loss:0.0725 imps:21.8 lr: 0.0779 etc:Thu Apr 30 09:33:38 2020\n",
            "step:  900/ 3305 loss:0.0696 imps:21.8 lr: 0.0751 etc:Thu Apr 30 09:33:27 2020\n",
            "step: 1000/ 3305 loss:0.0706 imps:21.8 lr: 0.0723 etc:Thu Apr 30 09:33:19 2020\n",
            "step: 1100/ 3305 loss:0.0672 imps:21.8 lr: 0.0695 etc:Thu Apr 30 09:33:13 2020\n",
            "step: 1200/ 3305 loss:0.0662 imps:21.8 lr: 0.0666 etc:Thu Apr 30 09:33:07 2020\n",
            "step: 1300/ 3305 loss:0.0679 imps:21.8 lr: 0.0638 etc:Thu Apr 30 09:33:01 2020\n",
            "validating ... loss: 0.0614\n",
            "Epoch 3/5\n",
            "step: 1400/ 3305 loss:0.0583 imps:21.8 lr: 0.0609 etc:Thu Apr 30 09:34:15 2020\n",
            "step: 1500/ 3305 loss:0.0618 imps:21.8 lr: 0.0580 etc:Thu Apr 30 09:34:06 2020\n",
            "step: 1600/ 3305 loss:0.0566 imps:21.8 lr: 0.0551 etc:Thu Apr 30 09:33:58 2020\n",
            "step: 1700/ 3305 loss:0.0603 imps:21.8 lr: 0.0522 etc:Thu Apr 30 09:33:50 2020\n",
            "step: 1800/ 3305 loss:0.0553 imps:21.8 lr: 0.0493 etc:Thu Apr 30 09:33:43 2020\n",
            "step: 1900/ 3305 loss:0.0523 imps:21.8 lr: 0.0463 etc:Thu Apr 30 09:33:38 2020\n",
            "validating ... loss: 0.0571\n",
            "Epoch 4/5\n",
            "step: 2000/ 3305 loss:0.0519 imps:21.7 lr: 0.0433 etc:Thu Apr 30 09:34:29 2020\n",
            "step: 2100/ 3305 loss:0.0462 imps:21.6 lr: 0.0403 etc:Thu Apr 30 09:34:23 2020\n",
            "step: 2200/ 3305 loss:0.0478 imps:21.7 lr: 0.0373 etc:Thu Apr 30 09:34:17 2020\n",
            "step: 2300/ 3305 loss:0.0475 imps:21.7 lr: 0.0343 etc:Thu Apr 30 09:34:11 2020\n",
            "step: 2400/ 3305 loss:0.0475 imps:21.8 lr: 0.0312 etc:Thu Apr 30 09:34:05 2020\n",
            "step: 2500/ 3305 loss:0.0471 imps:21.8 lr: 0.0281 etc:Thu Apr 30 09:33:59 2020\n",
            "step: 2600/ 3305 loss:0.0455 imps:21.8 lr: 0.0249 etc:Thu Apr 30 09:33:54 2020\n",
            "validating ... loss: 0.0513\n",
            "Epoch 5/5\n",
            "step: 2700/ 3305 loss:0.0418 imps:21.7 lr: 0.0217 etc:Thu Apr 30 09:34:32 2020\n",
            "step: 2800/ 3305 loss:0.0427 imps:21.6 lr: 0.0184 etc:Thu Apr 30 09:34:27 2020\n",
            "step: 2900/ 3305 loss:0.0385 imps:21.7 lr: 0.0151 etc:Thu Apr 30 09:34:22 2020\n",
            "step: 3000/ 3305 loss:0.0410 imps:21.7 lr: 0.0117 etc:Thu Apr 30 09:34:18 2020\n",
            "step: 3100/ 3305 loss:0.0383 imps:21.7 lr: 0.0082 etc:Thu Apr 30 09:34:14 2020\n",
            "step: 3200/ 3305 loss:0.0374 imps:21.7 lr: 0.0045 etc:Thu Apr 30 09:34:09 2020\n",
            "step: 3300/ 3305 loss:0.0351 imps:21.7 lr: 0.0003 etc:Thu Apr 30 09:34:05 2020\n",
            "validating ... loss: 0.0498\n",
            "step.make_cam: Thu Apr 30 09:34:39 2020\n",
            "[ /pytorch/torch/csrc/utils/python_arg_parser.cpp:756: UserWarning: This overload of nonzero is deprecated:\n",
            "\tnonzero(Tensor input, *, Tensor out)\n",
            "Consider using one of the following signatures instead:\n",
            "\tnonzero(Tensor input, *, bool as_tuple)\n",
            "/usr/local/lib/python3.6/dist-packages/torch/storage.py:34: FutureWarning: pickle support for Storage will be removed in 1.5. Use `torch.save` instead\n",
            "  warnings.warn(\"pickle support for Storage will be removed in 1.5. Use `torch.save` instead\", FutureWarning)\n"
          ],
          "name": "stdout"
        }
      ]
    },
    {
      "cell_type": "code",
      "metadata": {
        "id": "ppFbmPdStKO8",
        "colab_type": "code",
        "colab": {}
      },
      "source": [
        "#!/usr/bin/env python\n",
        "import os\n",
        "import zipfile\n",
        "\n",
        "def zipdir(path, ziph):\n",
        "    # ziph is zipfile handle\n",
        "    for root, dirs, files in os.walk(path):\n",
        "        for file in files:\n",
        "            ziph.write(os.path.join(root, file))\n",
        "\n",
        "if __name__ == '__main__':\n",
        "    zipf = zipfile.ZipFile('results.zip', 'w', zipfile.ZIP_DEFLATED)\n",
        "    zipdir('result', zipf)\n",
        "    zipf.close()"
      ],
      "execution_count": 0,
      "outputs": []
    }
  ]
}