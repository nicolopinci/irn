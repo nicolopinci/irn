{
 "cells": [
  {
   "cell_type": "code",
   "execution_count": 8,
   "metadata": {},
   "outputs": [
    {
     "name": "stdout",
     "output_type": "stream",
     "text": [
      "Get:1 http://security.debian.org/debian-security buster/updates InRelease [65.4 kB]\n",
      "Get:2 http://deb.debian.org/debian buster InRelease [121 kB]\n",
      "Get:3 http://deb.debian.org/debian buster-updates InRelease [51.9 kB]\n",
      "Get:4 http://security.debian.org/debian-security buster/updates/main amd64 Packages [203 kB]\n",
      "Get:5 http://deb.debian.org/debian buster/main amd64 Packages [7905 kB]\n",
      "Get:6 http://deb.debian.org/debian buster-updates/main amd64 Packages.diff/Index [3196 B]\n",
      "Get:7 http://deb.debian.org/debian buster-updates/main amd64 Packages 2020-06-04-2016.16.pdiff [1101 B]\n",
      "Get:8 http://deb.debian.org/debian buster-updates/main amd64 Packages 2020-06-07-1403.53.pdiff [439 B]\n",
      "Get:8 http://deb.debian.org/debian buster-updates/main amd64 Packages 2020-06-07-1403.53.pdiff [439 B]\n",
      "Fetched 8352 kB in 2s (4013 kB/s)               \n",
      "Reading package lists... Done\n",
      "N: Repository 'http://deb.debian.org/debian buster InRelease' changed its 'Version' value from '10.3' to '10.4'\n"
     ]
    }
   ],
   "source": [
    "!apt-get update"
   ]
  },
  {
   "cell_type": "code",
   "execution_count": 10,
   "metadata": {},
   "outputs": [
    {
     "name": "stdout",
     "output_type": "stream",
     "text": [
      "Reading package lists... Done\n",
      "Building dependency tree       \n",
      "Reading state information... Done\n",
      "g++ is already the newest version (4:8.3.0-1).\n",
      "0 upgraded, 0 newly installed, 0 to remove and 15 not upgraded.\n",
      "Reading package lists... Done\n",
      "Building dependency tree       \n",
      "Reading state information... Done\n",
      "gcc is already the newest version (4:8.3.0-1).\n",
      "gcc set to manually installed.\n",
      "0 upgraded, 0 newly installed, 0 to remove and 15 not upgraded.\n"
     ]
    }
   ],
   "source": [
    "!apt-get install g++ --yes\n",
    "!apt-get install gcc --yes"
   ]
  },
  {
   "cell_type": "code",
   "execution_count": null,
   "metadata": {},
   "outputs": [
    {
     "name": "stdout",
     "output_type": "stream",
     "text": [
      "Collecting git+https://github.com/lucasb-eyer/pydensecrf.git (from -r requirements.txt (line 6))\n",
      "  Cloning https://github.com/lucasb-eyer/pydensecrf.git to /tmp/pip-req-build-qhjao5t6\n",
      "  Running command git clone -q https://github.com/lucasb-eyer/pydensecrf.git /tmp/pip-req-build-qhjao5t6\n",
      "Requirement already satisfied: numpy>=1.16.3 in /opt/conda/lib/python3.7/site-packages (from -r requirements.txt (line 1)) (1.18.1)\n",
      "Requirement already satisfied: cython in /opt/conda/lib/python3.7/site-packages (from -r requirements.txt (line 2)) (0.29.15)\n",
      "Requirement already satisfied: imageio>=2.5.0 in /opt/conda/lib/python3.7/site-packages (from -r requirements.txt (line 3)) (2.6.1)\n",
      "Requirement already satisfied: scikit-image>=0.15.0 in /opt/conda/lib/python3.7/site-packages (from -r requirements.txt (line 4)) (0.16.2)\n",
      "Collecting chainercv>=0.12.0\n",
      "  Using cached chainercv-0.13.1.tar.gz (260 kB)\n",
      "Collecting torch>=1.1.0\n",
      "  Using cached torch-1.5.0-cp37-cp37m-manylinux1_x86_64.whl (752.0 MB)\n",
      "Collecting torchvision\n",
      "  Using cached torchvision-0.6.0-cp37-cp37m-manylinux1_x86_64.whl (6.6 MB)\n",
      "Requirement already satisfied: pillow in /opt/conda/lib/python3.7/site-packages (from imageio>=2.5.0->-r requirements.txt (line 3)) (7.0.0)\n",
      "Requirement already satisfied: PyWavelets>=0.4.0 in /opt/conda/lib/python3.7/site-packages (from scikit-image>=0.15.0->-r requirements.txt (line 4)) (1.1.1)\n",
      "Requirement already satisfied: networkx>=2.0 in /opt/conda/lib/python3.7/site-packages (from scikit-image>=0.15.0->-r requirements.txt (line 4)) (2.4)\n",
      "Requirement already satisfied: matplotlib!=3.0.0,>=2.0.0 in /opt/conda/lib/python3.7/site-packages (from scikit-image>=0.15.0->-r requirements.txt (line 4)) (3.1.3)\n",
      "Requirement already satisfied: scipy>=0.19.0 in /opt/conda/lib/python3.7/site-packages (from scikit-image>=0.15.0->-r requirements.txt (line 4)) (1.4.1)\n",
      "Requirement already satisfied: chainer>=6.0 in /opt/conda/lib/python3.7/site-packages (from chainercv>=0.12.0->-r requirements.txt (line 5)) (7.4.0)\n",
      "Requirement already satisfied: future in /opt/conda/lib/python3.7/site-packages (from torch>=1.1.0->-r requirements.txt (line 7)) (0.18.2)\n",
      "Requirement already satisfied: decorator>=4.3.0 in /opt/conda/lib/python3.7/site-packages (from networkx>=2.0->scikit-image>=0.15.0->-r requirements.txt (line 4)) (4.4.1)\n",
      "Requirement already satisfied: python-dateutil>=2.1 in /opt/conda/lib/python3.7/site-packages (from matplotlib!=3.0.0,>=2.0.0->scikit-image>=0.15.0->-r requirements.txt (line 4)) (2.8.1)\n",
      "Requirement already satisfied: pyparsing!=2.0.4,!=2.1.2,!=2.1.6,>=2.0.1 in /opt/conda/lib/python3.7/site-packages (from matplotlib!=3.0.0,>=2.0.0->scikit-image>=0.15.0->-r requirements.txt (line 4)) (2.4.6)\n",
      "Requirement already satisfied: kiwisolver>=1.0.1 in /opt/conda/lib/python3.7/site-packages (from matplotlib!=3.0.0,>=2.0.0->scikit-image>=0.15.0->-r requirements.txt (line 4)) (1.1.0)\n",
      "Requirement already satisfied: cycler>=0.10 in /opt/conda/lib/python3.7/site-packages (from matplotlib!=3.0.0,>=2.0.0->scikit-image>=0.15.0->-r requirements.txt (line 4)) (0.10.0)\n",
      "Requirement already satisfied: typing-extensions in /opt/conda/lib/python3.7/site-packages (from chainer>=6.0->chainercv>=0.12.0->-r requirements.txt (line 5)) (3.7.4.2)\n",
      "Requirement already satisfied: six>=1.9.0 in /opt/conda/lib/python3.7/site-packages (from chainer>=6.0->chainercv>=0.12.0->-r requirements.txt (line 5)) (1.14.0)\n",
      "Requirement already satisfied: setuptools in /opt/conda/lib/python3.7/site-packages (from chainer>=6.0->chainercv>=0.12.0->-r requirements.txt (line 5)) (45.2.0.post20200210)\n",
      "Requirement already satisfied: protobuf>=3.0.0 in /opt/conda/lib/python3.7/site-packages (from chainer>=6.0->chainercv>=0.12.0->-r requirements.txt (line 5)) (3.12.2)\n",
      "Requirement already satisfied: filelock in /opt/conda/lib/python3.7/site-packages (from chainer>=6.0->chainercv>=0.12.0->-r requirements.txt (line 5)) (3.0.12)\n",
      "Building wheels for collected packages: chainercv, pydensecrf\n",
      "  Building wheel for chainercv (setup.py) ... \u001b[?25ldone\n",
      "\u001b[?25h  Created wheel for chainercv: filename=chainercv-0.13.1-cp37-cp37m-linux_x86_64.whl size=553280 sha256=d76a953f2bf4c610ef1b3447d66e165736b14627ce16361d815a412a920cd325\n",
      "  Stored in directory: /root/.cache/pip/wheels/d0/25/65/69b903887d07424c5b971f5676f1151b32dc971df0f710097c\n",
      "  Building wheel for pydensecrf (setup.py) ... \u001b[?25ldone\n",
      "\u001b[?25h  Created wheel for pydensecrf: filename=pydensecrf-1.0rc2-cp37-cp37m-linux_x86_64.whl size=2843756 sha256=a0fc3b8ab6d185565610f732b6043017be6ffe4c4a3ea6f00a1fd7637d401881\n",
      "  Stored in directory: /tmp/pip-ephem-wheel-cache-kbc8p2bt/wheels/c1/7e/80/99adc0b2f215180486e24dd9c700028343ba5f566514a0ef05\n",
      "Successfully built chainercv pydensecrf\n",
      "Installing collected packages: chainercv, torch, torchvision, pydensecrf\n"
     ]
    }
   ],
   "source": [
    "!pip install -r requirements.txt"
   ]
  }
 ],
 "metadata": {
  "kernelspec": {
   "display_name": "Python 3",
   "language": "python",
   "name": "python3"
  },
  "language_info": {
   "codemirror_mode": {
    "name": "ipython",
    "version": 3
   },
   "file_extension": ".py",
   "mimetype": "text/x-python",
   "name": "python",
   "nbconvert_exporter": "python",
   "pygments_lexer": "ipython3",
   "version": "3.7.6"
  }
 },
 "nbformat": 4,
 "nbformat_minor": 4
}
